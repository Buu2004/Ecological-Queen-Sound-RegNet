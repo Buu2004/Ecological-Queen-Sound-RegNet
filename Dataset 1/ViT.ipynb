{
 "cells": [
  {
   "cell_type": "code",
   "execution_count": 2,
   "metadata": {
    "execution": {
     "iopub.execute_input": "2024-10-24T03:44:50.249421Z",
     "iopub.status.busy": "2024-10-24T03:44:50.248874Z",
     "iopub.status.idle": "2024-10-24T03:44:50.255274Z",
     "shell.execute_reply": "2024-10-24T03:44:50.254182Z",
     "shell.execute_reply.started": "2024-10-24T03:44:50.249380Z"
    },
    "trusted": true
   },
   "outputs": [],
   "source": [
    "import numpy as np\n",
    "import pandas as pd\n",
    "from sklearn.model_selection import train_test_split\n",
    "import torch\n",
    "import torch.nn as nn\n",
    "import torch.optim as optim\n",
    "from torchvision import transforms, datasets, models\n",
    "from torch.utils.data import DataLoader, Dataset\n",
    "from tqdm import tqdm"
   ]
  },
  {
   "cell_type": "code",
   "execution_count": null,
   "metadata": {
    "execution": {
     "iopub.execute_input": "2024-10-24T03:46:44.892634Z",
     "iopub.status.busy": "2024-10-24T03:46:44.891676Z",
     "iopub.status.idle": "2024-10-24T03:46:44.994417Z",
     "shell.execute_reply": "2024-10-24T03:46:44.993489Z",
     "shell.execute_reply.started": "2024-10-24T03:46:44.892589Z"
    },
    "trusted": true
   },
   "outputs": [],
   "source": [
    "Queen_train = np.load('Queen_train.npy')\n",
    "Queen_val = np.load('Queen_val.npy')\n",
    "Queen_test = np.load('Queen_test.npy')\n",
    "Queen_train.shape,Queen_val.shape,Queen_test.shape"
   ]
  },
  {
   "cell_type": "code",
   "execution_count": null,
   "metadata": {
    "execution": {
     "iopub.execute_input": "2024-10-24T03:46:48.798255Z",
     "iopub.status.busy": "2024-10-24T03:46:48.797494Z",
     "iopub.status.idle": "2024-10-24T03:46:48.898050Z",
     "shell.execute_reply": "2024-10-24T03:46:48.897183Z",
     "shell.execute_reply.started": "2024-10-24T03:46:48.798217Z"
    },
    "trusted": true
   },
   "outputs": [],
   "source": [
    "Queen = np.concatenate((Queen_train,Queen_val,Queen_test))\n",
    "Queen.shape"
   ]
  },
  {
   "cell_type": "code",
   "execution_count": null,
   "metadata": {
    "execution": {
     "iopub.execute_input": "2024-10-24T03:47:24.407141Z",
     "iopub.status.busy": "2024-10-24T03:47:24.406748Z",
     "iopub.status.idle": "2024-10-24T03:47:24.513352Z",
     "shell.execute_reply": "2024-10-24T03:47:24.512553Z",
     "shell.execute_reply.started": "2024-10-24T03:47:24.407106Z"
    },
    "trusted": true
   },
   "outputs": [],
   "source": [
    "NonQueen_train = np.load('NonQueen_train.npy')\n",
    "NonQueen_val = np.load('NonQueen_val.npy')\n",
    "NonQueen_test = np.load('Nonqueen_test.npy')\n",
    "NonQueen_train.shape,NonQueen_val.shape,NonQueen_test.shape"
   ]
  },
  {
   "cell_type": "code",
   "execution_count": null,
   "metadata": {
    "execution": {
     "iopub.execute_input": "2024-10-24T03:47:30.629401Z",
     "iopub.status.busy": "2024-10-24T03:47:30.629020Z",
     "iopub.status.idle": "2024-10-24T03:47:30.729799Z",
     "shell.execute_reply": "2024-10-24T03:47:30.728852Z",
     "shell.execute_reply.started": "2024-10-24T03:47:30.629367Z"
    },
    "trusted": true
   },
   "outputs": [],
   "source": [
    "NonQueen = np.concatenate((NonQueen_train,NonQueen_val,NonQueen_test))\n",
    "NonQueen.shape"
   ]
  },
  {
   "cell_type": "code",
   "execution_count": 10,
   "metadata": {
    "execution": {
     "iopub.execute_input": "2024-10-24T03:47:32.588879Z",
     "iopub.status.busy": "2024-10-24T03:47:32.588455Z",
     "iopub.status.idle": "2024-10-24T03:47:32.593807Z",
     "shell.execute_reply": "2024-10-24T03:47:32.592770Z",
     "shell.execute_reply.started": "2024-10-24T03:47:32.588838Z"
    },
    "trusted": true
   },
   "outputs": [],
   "source": [
    "Label_Queen = np.ones(len(Queen)) * 1  \n",
    "Label_NonQueen = np.ones(len(NonQueen)) * 0  "
   ]
  },
  {
   "cell_type": "code",
   "execution_count": 11,
   "metadata": {
    "execution": {
     "iopub.execute_input": "2024-10-24T03:47:34.860682Z",
     "iopub.status.busy": "2024-10-24T03:47:34.860272Z",
     "iopub.status.idle": "2024-10-24T03:47:35.067939Z",
     "shell.execute_reply": "2024-10-24T03:47:35.067065Z",
     "shell.execute_reply.started": "2024-10-24T03:47:34.860644Z"
    },
    "trusted": true
   },
   "outputs": [],
   "source": [
    "data = np.concatenate((Queen,NonQueen), axis=0)\n",
    "labels = np.concatenate((Label_Queen,Label_NonQueen), axis=0)\n",
    "\n",
    "df = pd.DataFrame({'data': list(data), 'labels': labels})"
   ]
  },
  {
   "cell_type": "code",
   "execution_count": 12,
   "metadata": {
    "execution": {
     "iopub.execute_input": "2024-10-24T03:47:36.045585Z",
     "iopub.status.busy": "2024-10-24T03:47:36.045216Z",
     "iopub.status.idle": "2024-10-24T03:47:36.265581Z",
     "shell.execute_reply": "2024-10-24T03:47:36.264637Z",
     "shell.execute_reply.started": "2024-10-24T03:47:36.045549Z"
    },
    "trusted": true
   },
   "outputs": [],
   "source": [
    "train_df, test_df = train_test_split(df, test_size=0.2, random_state=42, stratify=df['labels'])\n",
    "train_df, val_df = train_test_split(train_df, test_size=0.15, random_state=42, stratify=train_df['labels'])\n",
    "\n",
    "x_train = np.array(train_df['data'].tolist())\n",
    "y_train = np.array(train_df['labels'].tolist())\n",
    "\n",
    "x_val = np.array(val_df['data'].tolist())\n",
    "y_val = np.array(val_df['labels'].tolist())\n",
    "\n",
    "x_test = np.array(test_df['data'].tolist())\n",
    "y_test = np.array(test_df['labels'].tolist())"
   ]
  },
  {
   "cell_type": "code",
   "execution_count": 13,
   "metadata": {
    "execution": {
     "iopub.execute_input": "2024-10-24T03:47:37.418859Z",
     "iopub.status.busy": "2024-10-24T03:47:37.418426Z",
     "iopub.status.idle": "2024-10-24T03:47:37.425405Z",
     "shell.execute_reply": "2024-10-24T03:47:37.424504Z",
     "shell.execute_reply.started": "2024-10-24T03:47:37.418817Z"
    },
    "trusted": true
   },
   "outputs": [],
   "source": [
    "class BeeDataset(Dataset):\n",
    "    def __init__(self, images, labels, transform=None):\n",
    "        self.images = images\n",
    "        self.labels = labels\n",
    "        self.transform = transform\n",
    "\n",
    "    def __len__(self):\n",
    "        return len(self.images)\n",
    "\n",
    "    def __getitem__(self, idx):\n",
    "        image = self.images[idx]\n",
    "        label = self.labels[idx]\n",
    "        if self.transform:\n",
    "            image = self.transform(image)\n",
    "        return image, label"
   ]
  },
  {
   "cell_type": "code",
   "execution_count": 14,
   "metadata": {
    "execution": {
     "iopub.execute_input": "2024-10-24T03:47:38.852819Z",
     "iopub.status.busy": "2024-10-24T03:47:38.852415Z",
     "iopub.status.idle": "2024-10-24T03:47:38.857826Z",
     "shell.execute_reply": "2024-10-24T03:47:38.856840Z",
     "shell.execute_reply.started": "2024-10-24T03:47:38.852779Z"
    },
    "trusted": true
   },
   "outputs": [],
   "source": [
    "transform = transforms.Compose([\n",
    "    transforms.ToPILImage(),  # Convert numpy array to PIL Image\n",
    "    transforms.Resize((224, 224)),\n",
    "    transforms.ToTensor()\n",
    "])"
   ]
  },
  {
   "cell_type": "code",
   "execution_count": 15,
   "metadata": {
    "execution": {
     "iopub.execute_input": "2024-10-24T03:47:39.911523Z",
     "iopub.status.busy": "2024-10-24T03:47:39.911159Z",
     "iopub.status.idle": "2024-10-24T03:47:39.916674Z",
     "shell.execute_reply": "2024-10-24T03:47:39.915727Z",
     "shell.execute_reply.started": "2024-10-24T03:47:39.911487Z"
    },
    "trusted": true
   },
   "outputs": [],
   "source": [
    "train_dataset = BeeDataset(x_train, y_train, transform=transform)\n",
    "val_dataset = BeeDataset(x_val, y_val, transform=transform)\n",
    "test_dataset = BeeDataset(x_test, y_test, transform=transform)"
   ]
  },
  {
   "cell_type": "code",
   "execution_count": 16,
   "metadata": {
    "execution": {
     "iopub.execute_input": "2024-10-24T03:47:41.386683Z",
     "iopub.status.busy": "2024-10-24T03:47:41.386322Z",
     "iopub.status.idle": "2024-10-24T03:47:41.391001Z",
     "shell.execute_reply": "2024-10-24T03:47:41.390008Z",
     "shell.execute_reply.started": "2024-10-24T03:47:41.386646Z"
    },
    "trusted": true
   },
   "outputs": [],
   "source": [
    "batch_size = 64"
   ]
  },
  {
   "cell_type": "code",
   "execution_count": 17,
   "metadata": {
    "execution": {
     "iopub.execute_input": "2024-10-24T03:47:42.379586Z",
     "iopub.status.busy": "2024-10-24T03:47:42.379226Z",
     "iopub.status.idle": "2024-10-24T03:47:42.385051Z",
     "shell.execute_reply": "2024-10-24T03:47:42.383984Z",
     "shell.execute_reply.started": "2024-10-24T03:47:42.379550Z"
    },
    "trusted": true
   },
   "outputs": [],
   "source": [
    "train_dataloader = DataLoader(train_dataset, batch_size=batch_size, shuffle=True)\n",
    "val_dataloader = DataLoader(val_dataset, batch_size=batch_size, shuffle=False)\n",
    "test_dataloader = DataLoader(test_dataset, batch_size=batch_size, shuffle=False)"
   ]
  },
  {
   "cell_type": "code",
   "execution_count": null,
   "metadata": {
    "execution": {
     "iopub.execute_input": "2024-10-24T03:47:43.745917Z",
     "iopub.status.busy": "2024-10-24T03:47:43.745354Z",
     "iopub.status.idle": "2024-10-24T03:47:43.780795Z",
     "shell.execute_reply": "2024-10-24T03:47:43.779664Z",
     "shell.execute_reply.started": "2024-10-24T03:47:43.745879Z"
    },
    "trusted": true
   },
   "outputs": [],
   "source": [
    "device = torch.device(\"cuda:0\" if torch.cuda.is_available() else \"cpu\")\n",
    "device"
   ]
  },
  {
   "cell_type": "code",
   "execution_count": 19,
   "metadata": {
    "execution": {
     "iopub.execute_input": "2024-10-24T03:47:45.295298Z",
     "iopub.status.busy": "2024-10-24T03:47:45.294543Z",
     "iopub.status.idle": "2024-10-24T03:47:45.302087Z",
     "shell.execute_reply": "2024-10-24T03:47:45.301242Z",
     "shell.execute_reply.started": "2024-10-24T03:47:45.295253Z"
    },
    "trusted": true
   },
   "outputs": [],
   "source": [
    "seed = 42\n",
    "torch.cuda.manual_seed(seed)\n",
    "torch.cuda.manual_seed_all(seed)\n",
    "# Ensure deterministic behavior\n",
    "torch.backends.cudnn.deterministic = True\n",
    "torch.backends.cudnn.benchmark = False"
   ]
  },
  {
   "cell_type": "code",
   "execution_count": 20,
   "metadata": {
    "execution": {
     "iopub.execute_input": "2024-10-24T03:47:49.874513Z",
     "iopub.status.busy": "2024-10-24T03:47:49.873680Z",
     "iopub.status.idle": "2024-10-24T03:47:51.797180Z",
     "shell.execute_reply": "2024-10-24T03:47:51.796316Z",
     "shell.execute_reply.started": "2024-10-24T03:47:49.874468Z"
    },
    "trusted": true
   },
   "outputs": [],
   "source": [
    "from timm import create_model\n",
    "\n",
    "model = create_model('vit_tiny_patch16_224', pretrained=False, num_classes=2)\n",
    "model.patch_embed.proj = nn.Conv2d(1, model.patch_embed.proj.out_channels, \n",
    "                                   kernel_size=model.patch_embed.proj.kernel_size, \n",
    "                                   stride=model.patch_embed.proj.stride, \n",
    "                                   padding=model.patch_embed.proj.padding)\n",
    "\n",
    "# load model weights\n",
    "# weight_path = 'path/to/weight.pth'\n",
    "# state_dict = torch.load(weight_path)\n",
    "# model.load_state_dict(state_dict)\n",
    "\n",
    "model = model.to(device)\n",
    "learning_rate = 0.01\n",
    "criterion = nn.CrossEntropyLoss()\n",
    "optimizer = optim.Adam(model.parameters(), lr=learning_rate)"
   ]
  },
  {
   "cell_type": "code",
   "execution_count": null,
   "metadata": {
    "execution": {
     "iopub.execute_input": "2024-10-24T03:47:54.248105Z",
     "iopub.status.busy": "2024-10-24T03:47:54.247472Z"
    },
    "trusted": true
   },
   "outputs": [],
   "source": [
    "# Training and validation loop\n",
    "num_epochs = 50\n",
    "train_accs = []\n",
    "val_accs = []\n",
    "train_losses = []\n",
    "val_losses = []\n",
    "best_val_accuracy = 0\n",
    "best_val_loss = float('inf')\n",
    "\n",
    "for epoch in range(num_epochs):\n",
    "    # Training\n",
    "    model.train()\n",
    "    train_loss = 0.0\n",
    "    train_corrects = 0\n",
    "    for train_images, train_labels in tqdm(train_dataloader, desc=f\"Epoch {epoch+1}\"):\n",
    "        train_images = train_images.to(device)\n",
    "        train_labels = train_labels.long().to(device)\n",
    "        optimizer.zero_grad()\n",
    "        outputs = model(train_images)\n",
    "        _, preds = torch.max(outputs, 1)\n",
    "        loss = criterion(outputs, train_labels)\n",
    "        loss.backward()\n",
    "        optimizer.step()\n",
    "        train_loss += loss.item() * train_images.size(0)\n",
    "        train_corrects += torch.sum(preds == train_labels.data)\n",
    "    train_loss /= len(train_dataloader.dataset)\n",
    "    train_acc = train_corrects.double() / len(train_dataloader.dataset)\n",
    "    train_losses.append(train_loss)\n",
    "    train_accs.append(train_acc)\n",
    "    # Validation\n",
    "    model.eval()\n",
    "    val_loss = 0.0\n",
    "    val_corrects = 0\n",
    "    with torch.no_grad():\n",
    "        for val_images, val_labels in tqdm(val_dataloader, desc=f\"Epoch {epoch+1} Validation\"):\n",
    "            val_images = val_images.to(device)\n",
    "            val_labels = val_labels.long().to(device)\n",
    "            \n",
    "            val_outputs = model(val_images)\n",
    "            _, preds = torch.max(val_outputs, 1)\n",
    "            loss = criterion(val_outputs, val_labels)\n",
    "            \n",
    "            val_loss += loss.item() * val_images.size(0)\n",
    "            val_corrects += torch.sum(preds == val_labels.data)\n",
    "    val_loss /= len(val_dataloader.dataset)\n",
    "    val_acc = val_corrects.double() / len(val_dataloader.dataset)\n",
    "    val_losses.append(val_loss)\n",
    "    val_accs.append(val_acc)\n",
    "    print(f\"Epoch {epoch+1}, Train Loss: {train_loss:.4f}, Train Acc: {train_acc:.4f}, Val Loss: {val_loss:.4f}, Val Acc:{val_acc:.4f}\")\n",
    "    if val_loss < best_val_loss:\n",
    "        best_val_loss = val_loss\n",
    "        torch.save(model.state_dict(), f'best_model_{learning_rate}.pth')"
   ]
  }
 ],
 "metadata": {
  "kaggle": {
   "accelerator": "gpu",
   "dataSources": [
    {
     "datasetId": 5089207,
     "sourceId": 8522992,
     "sourceType": "datasetVersion"
    }
   ],
   "dockerImageVersionId": 30787,
   "isGpuEnabled": true,
   "isInternetEnabled": true,
   "language": "python",
   "sourceType": "notebook"
  },
  "kernelspec": {
   "display_name": "Python 3",
   "language": "python",
   "name": "python3"
  },
  "language_info": {
   "codemirror_mode": {
    "name": "ipython",
    "version": 3
   },
   "file_extension": ".py",
   "mimetype": "text/x-python",
   "name": "python",
   "nbconvert_exporter": "python",
   "pygments_lexer": "ipython3",
   "version": "3.10.14"
  }
 },
 "nbformat": 4,
 "nbformat_minor": 4
}
